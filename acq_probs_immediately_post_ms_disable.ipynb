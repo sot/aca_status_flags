{
 "cells": [
  {
   "cell_type": "markdown",
   "metadata": {},
   "source": [
    "## Check acquisition probabilities shortly after disabling MS flag for acquisition\n",
    "\n",
    "This notebook does a quick check after about a week of data have been collected with the MS flag disabled during acquisition.  It confirms that faint sources are indeed being identified by the OBC at the expected (much higher) rate."
   ]
  },
  {
   "cell_type": "code",
   "execution_count": 1,
   "metadata": {
    "collapsed": true
   },
   "outputs": [],
   "source": [
    "from __future__ import division\n",
    "\n",
    "from astropy.time import Time\n",
    "import matplotlib.pyplot as plt\n",
    "import tables\n",
    "import numpy as np\n",
    "from astropy.table import Table\n",
    "from chandra_aca import star_probs\n",
    "%matplotlib inline"
   ]
  },
  {
   "cell_type": "code",
   "execution_count": 2,
   "metadata": {
    "collapsed": false
   },
   "outputs": [],
   "source": [
    "# Just before first obsid of FEB0816 when MS flag was disabled\n",
    "# for acquisition.\n",
    "tstart = Time('2016:039:09:23:10.489').cxcsec\n",
    "filename = '/proj/sot/ska/data/acq_stats/acq_stats.h5'\n",
    "if 'stats' not in globals():\n",
    "    with tables.openFile(filename) as h5:\n",
    "        stats = h5.root.data.readWhere('guide_tstart > {}'.format(tstart))\n",
    "    stats = Table(stats)\n",
    "\n",
    "    stats.sort('mag_aca')"
   ]
  },
  {
   "cell_type": "code",
   "execution_count": 3,
   "metadata": {
    "collapsed": true
   },
   "outputs": [],
   "source": [
    "def plot_n_exp_obs(stats, mag_limit=10.0, ms_enabled=True):\n",
    "    idx = np.searchsorted(stats['mag_aca'], mag_limit)\n",
    "    stats = stats[idx:]\n",
    "\n",
    "    star_probs.set_fit_pars(ms_enabled)\n",
    "    acq_probs = star_probs.acq_success_prob(date=stats['guide_tstart'],\n",
    "                                            t_ccd=stats['ccd_temp'],\n",
    "                                            mag=stats['mag_aca'],\n",
    "                                            color=stats['color1'])\n",
    "\n",
    "    n_acq = len(acq_probs)\n",
    "    n_exp = np.sum(acq_probs)\n",
    "    n_obs = np.sum(stats['acqid'])\n",
    "    if len(acq_probs) > 30:\n",
    "        print('Too many stars for computing cumulative probability (will take too long)')\n",
    "        cum_n_acq_probs = None\n",
    "    else:\n",
    "        _, cum_n_acq_probs = star_probs.prob_n_acq(acq_probs)\n",
    "\n",
    "    # cum_n_acq_probs[i] is probability of acquiring i or fewer\n",
    "    # 1 - cum_n_acq_probs[i] is probability of acq'ing (i+1) or more\n",
    "    # 1 - cum_n_acq_probs[i-1] is probability of acq'ing i or more\n",
    "    print('N acq attempts = {}'.format(n_acq))\n",
    "    print('Expected success = {:.2f}'.format(n_exp))\n",
    "    print('Observed success = {}'.format(n_obs))\n",
    "    if cum_n_acq_probs is not None:\n",
    "        n = np.arange(1, n_acq)\n",
    "        p = 1 - cum_n_acq_probs[n - 1]\n",
    "        p0 = 1 - cum_n_acq_probs[n_obs - 1]\n",
    "        plt.plot(n, p)\n",
    "        plt.grid()\n",
    "        print('Probability {} or more successes = {:.3g}'\n",
    "             .format(n_obs, p0))\n",
    "        plt.plot([n_obs, n_obs], [0, 1], '--r')\n",
    "        plt.plot([n_obs], [p0], 'or')\n",
    "        plt.xlabel('N success')\n",
    "        plt.ylabel('Probability')\n",
    "        plt.title('Probability(N or more successes)');"
   ]
  },
  {
   "cell_type": "markdown",
   "metadata": {},
   "source": [
    "### Cumulative probability using the old (pre-MS-disabled) acq probability model"
   ]
  },
  {
   "cell_type": "code",
   "execution_count": 4,
   "metadata": {
    "collapsed": false
   },
   "outputs": [
    {
     "name": "stdout",
     "output_type": "stream",
     "text": [
      "N acq attempts = 28\n",
      "Expected success = 12.90\n",
      "Observed success = 25\n",
      "Probability 25 or more successes = 2.14e-07\n"
     ]
    },
    {
     "data": {
      "image/png": "[encoded data removed]",
      "text/plain": [
       "<matplotlib.figure.Figure at 0x10db07090>"
      ]
     },
     "metadata": {},
     "output_type": "display_data"
    }
   ],
   "source": [
    "plot_n_exp_obs(stats, mag_limit=10.0, ms_enabled=True)"
   ]
  },
  {
   "cell_type": "markdown",
   "metadata": {},
   "source": [
    "### Cumulative probability using the new (post-MS-disabled) acq probability model"
   ]
  },
  {
   "cell_type": "code",
   "execution_count": 5,
   "metadata": {
    "collapsed": false
   },
   "outputs": [
    {
     "name": "stdout",
     "output_type": "stream",
     "text": [
      "N acq attempts = 28\n",
      "Expected success = 22.73\n",
      "Observed success = 25\n",
      "Probability 25 or more successes = 0.181\n"
     ]
    },
    {
     "data": {
      "image/png": "[encoded data removed]",
      "text/plain": [
       "<matplotlib.figure.Figure at 0x108ed98d0>"
      ]
     },
     "metadata": {},
     "output_type": "display_data"
    }
   ],
   "source": [
    "plot_n_exp_obs(stats, mag_limit=10.0, ms_enabled=False)"
   ]
  },
  {
   "cell_type": "code",
   "execution_count": null,
   "metadata": {
    "collapsed": true
   },
   "outputs": [],
   "source": []
  }
 ],
 "metadata": {
  "kernelspec": {
   "display_name": "Python 2",
   "language": "python",
   "name": "python2"
  },
  "language_info": {
   "codemirror_mode": {
    "name": "ipython",
    "version": 2
   },
   "file_extension": ".py",
   "mimetype": "text/x-python",
   "name": "python",
   "nbconvert_exporter": "python",
   "pygments_lexer": "ipython2",
   "version": "2.7.11"
  }
 },
 "nbformat": 4,
 "nbformat_minor": 0
}
